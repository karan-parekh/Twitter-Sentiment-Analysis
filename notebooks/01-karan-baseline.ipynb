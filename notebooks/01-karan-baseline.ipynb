{
 "cells": [
  {
   "cell_type": "markdown",
   "metadata": {},
   "source": [
    "# Baseline Model Notebook"
   ]
  },
  {
   "cell_type": "code",
   "execution_count": 18,
   "metadata": {},
   "outputs": [],
   "source": [
    "import os\n",
    "import sys\n",
    "\n",
    "app_path = os.getcwd().rsplit(os.sep, 1)[0]\n",
    "\n",
    "\"\"\"Add app path to sys.path for importing parent directory modules\"\"\"\n",
    "if app_path not in sys.path:\n",
    "    sys.path.insert(0, app_path)\n",
    "\n",
    "# Note: Do NOT delete this cell"
   ]
  },
  {
   "cell_type": "code",
   "execution_count": 24,
   "metadata": {},
   "outputs": [
    {
     "output_type": "error",
     "ename": "ImportError",
     "evalue": "cannot import name 'preprocess' from 'utils.helpers' (c:\\Users\\karan\\Desktop\\GLabs_DSMP\\Twitter-Sentiment-Analysis\\utils\\helpers.py)",
     "traceback": [
      "\u001b[1;31m---------------------------------------------------------------------------\u001b[0m",
      "\u001b[1;31mImportError\u001b[0m                               Traceback (most recent call last)",
      "\u001b[1;32m<ipython-input-24-fd98980b08e3>\u001b[0m in \u001b[0;36m<module>\u001b[1;34m\u001b[0m\n\u001b[0;32m      2\u001b[0m \u001b[1;33m\u001b[0m\u001b[0m\n\u001b[0;32m      3\u001b[0m \u001b[1;32mfrom\u001b[0m \u001b[0mutils\u001b[0m\u001b[1;33m.\u001b[0m\u001b[0mpaths\u001b[0m \u001b[1;32mimport\u001b[0m \u001b[0mdata_path\u001b[0m\u001b[1;33m\u001b[0m\u001b[1;33m\u001b[0m\u001b[0m\n\u001b[1;32m----> 4\u001b[1;33m \u001b[1;32mfrom\u001b[0m \u001b[0mutils\u001b[0m\u001b[1;33m.\u001b[0m\u001b[0mhelpers\u001b[0m \u001b[1;32mimport\u001b[0m \u001b[0mpreprocess\u001b[0m\u001b[1;33m\u001b[0m\u001b[1;33m\u001b[0m\u001b[0m\n\u001b[0m",
      "\u001b[1;31mImportError\u001b[0m: cannot import name 'preprocess' from 'utils.helpers' (c:\\Users\\karan\\Desktop\\GLabs_DSMP\\Twitter-Sentiment-Analysis\\utils\\helpers.py)"
     ]
    }
   ],
   "source": [
    "import pandas as pd\n",
    "\n",
    "from utils.paths import data_path\n",
    "from utils.helpers import preprocess"
   ]
  },
  {
   "cell_type": "code",
   "execution_count": 6,
   "metadata": {},
   "outputs": [
    {
     "output_type": "execute_result",
     "data": {
      "text/plain": "   tweet_id                                              tweet  sentiment\n0      1701  #sxswnui #sxsw #apple defining language of tou...          1\n1      1851  Learning ab Google doodles! All doodles should...          1\n2      2689  one of the most in-your-face ex. of stealing t...          2\n3      4525  This iPhone #SXSW app would b pretty awesome i...          0\n4      3604  Line outside the Apple store in Austin waiting...          1",
      "text/html": "<div>\n<style scoped>\n    .dataframe tbody tr th:only-of-type {\n        vertical-align: middle;\n    }\n\n    .dataframe tbody tr th {\n        vertical-align: top;\n    }\n\n    .dataframe thead th {\n        text-align: right;\n    }\n</style>\n<table border=\"1\" class=\"dataframe\">\n  <thead>\n    <tr style=\"text-align: right;\">\n      <th></th>\n      <th>tweet_id</th>\n      <th>tweet</th>\n      <th>sentiment</th>\n    </tr>\n  </thead>\n  <tbody>\n    <tr>\n      <th>0</th>\n      <td>1701</td>\n      <td>#sxswnui #sxsw #apple defining language of tou...</td>\n      <td>1</td>\n    </tr>\n    <tr>\n      <th>1</th>\n      <td>1851</td>\n      <td>Learning ab Google doodles! All doodles should...</td>\n      <td>1</td>\n    </tr>\n    <tr>\n      <th>2</th>\n      <td>2689</td>\n      <td>one of the most in-your-face ex. of stealing t...</td>\n      <td>2</td>\n    </tr>\n    <tr>\n      <th>3</th>\n      <td>4525</td>\n      <td>This iPhone #SXSW app would b pretty awesome i...</td>\n      <td>0</td>\n    </tr>\n    <tr>\n      <th>4</th>\n      <td>3604</td>\n      <td>Line outside the Apple store in Austin waiting...</td>\n      <td>1</td>\n    </tr>\n  </tbody>\n</table>\n</div>"
     },
     "metadata": {},
     "execution_count": 6
    }
   ],
   "source": [
    "path = data_path('train.csv')\n",
    "df   = pd.read_csv(path)\n",
    "\n",
    "df.head()"
   ]
  },
  {
   "cell_type": "code",
   "execution_count": 7,
   "metadata": {},
   "outputs": [
    {
     "output_type": "execute_result",
     "data": {
      "text/plain": "0       #sxswnui #sxsw #apple defining language of tou...\n1       Learning ab Google doodles! All doodles should...\n2       one of the most in-your-face ex. of stealing t...\n3       This iPhone #SXSW app would b pretty awesome i...\n4       Line outside the Apple store in Austin waiting...\n                              ...                        \n7269    @mention Google plze Tammi.  I'm in middle of ...\n7270    RT @mention ÷¼ Are you all set? ÷_ {link} ÷...\n7271    RT @mention Aha! Found proof of lactation room...\n7272    We just launched our iPad app at #SXSW! Get al...\n7273    The next fin serv battle is vs Apple, GOOG, Mo...\nName: tweet, Length: 7274, dtype: object"
     },
     "metadata": {},
     "execution_count": 7
    }
   ],
   "source": [
    "df.tweet.apply(pre)"
   ]
  },
  {
   "cell_type": "markdown",
   "metadata": {},
   "source": [
    "## END"
   ]
  }
 ],
 "metadata": {
  "language_info": {
   "name": "python",
   "codemirror_mode": {
    "name": "ipython",
    "version": 3
   },
   "version": "3.7.4-final"
  },
  "orig_nbformat": 2,
  "file_extension": ".py",
  "mimetype": "text/x-python",
  "name": "python",
  "npconvert_exporter": "python",
  "pygments_lexer": "ipython3",
  "version": 3,
  "kernelspec": {
   "name": "python37432bittitanicpipenvc73c4e7f743741118feccf7f89e2f070",
   "display_name": "Python 3.7.4 32-bit ('Titanic': pipenv)"
  }
 },
 "nbformat": 4,
 "nbformat_minor": 2
}