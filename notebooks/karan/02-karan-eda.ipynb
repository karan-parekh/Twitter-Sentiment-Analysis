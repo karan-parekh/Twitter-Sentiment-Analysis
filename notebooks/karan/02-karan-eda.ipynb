{
 "cells": [
  {
   "cell_type": "markdown",
   "metadata": {},
   "source": [
    "# EDA Notebook"
   ]
  },
  {
   "cell_type": "code",
   "execution_count": 1,
   "metadata": {},
   "outputs": [],
   "source": [
    "import os\n",
    "import sys\n",
    "\n",
    "app_path = os.getcwd().rsplit(os.sep, 2)[0]\n",
    "\n",
    "\"\"\"Add app path to sys.path for importing parent directory modules\"\"\"\n",
    "if app_path not in sys.path:\n",
    "    sys.path.insert(0, app_path)\n",
    "\n",
    "# Note: Do NOT delete this cell"
   ]
  },
  {
   "cell_type": "markdown",
   "metadata": {},
   "source": [
    "## Imports"
   ]
  },
  {
   "cell_type": "code",
   "execution_count": 2,
   "metadata": {},
   "outputs": [],
   "source": [
    "import pandas as pd\n",
    "import time\n",
    "\n",
    "from functools import partial\n",
    "\n",
    "from utils.paths import data_path\n",
    "from utils.helpers import preprocess, get_hashtags, save_as_csv, get_subjectivity, get_polarity"
   ]
  },
  {
   "cell_type": "markdown",
   "metadata": {},
   "source": [
    "## Reading raw data"
   ]
  },
  {
   "cell_type": "code",
   "execution_count": 3,
   "metadata": {},
   "outputs": [
    {
     "output_type": "execute_result",
     "data": {
      "text/plain": "   tweet_id                                              tweet  sentiment\n0      1701  #sxswnui #sxsw #apple defining language of tou...          1\n1      1851  Learning ab Google doodles! All doodles should...          1\n2      2689  one of the most in-your-face ex. of stealing t...          2\n3      4525  This iPhone #SXSW app would b pretty awesome i...          0\n4      3604  Line outside the Apple store in Austin waiting...          1",
      "text/html": "<div>\n<style scoped>\n    .dataframe tbody tr th:only-of-type {\n        vertical-align: middle;\n    }\n\n    .dataframe tbody tr th {\n        vertical-align: top;\n    }\n\n    .dataframe thead th {\n        text-align: right;\n    }\n</style>\n<table border=\"1\" class=\"dataframe\">\n  <thead>\n    <tr style=\"text-align: right;\">\n      <th></th>\n      <th>tweet_id</th>\n      <th>tweet</th>\n      <th>sentiment</th>\n    </tr>\n  </thead>\n  <tbody>\n    <tr>\n      <th>0</th>\n      <td>1701</td>\n      <td>#sxswnui #sxsw #apple defining language of tou...</td>\n      <td>1</td>\n    </tr>\n    <tr>\n      <th>1</th>\n      <td>1851</td>\n      <td>Learning ab Google doodles! All doodles should...</td>\n      <td>1</td>\n    </tr>\n    <tr>\n      <th>2</th>\n      <td>2689</td>\n      <td>one of the most in-your-face ex. of stealing t...</td>\n      <td>2</td>\n    </tr>\n    <tr>\n      <th>3</th>\n      <td>4525</td>\n      <td>This iPhone #SXSW app would b pretty awesome i...</td>\n      <td>0</td>\n    </tr>\n    <tr>\n      <th>4</th>\n      <td>3604</td>\n      <td>Line outside the Apple store in Austin waiting...</td>\n      <td>1</td>\n    </tr>\n  </tbody>\n</table>\n</div>"
     },
     "metadata": {},
     "execution_count": 3
    }
   ],
   "source": [
    "FILE = \"test\"\n",
    "\n",
    "if FILE == \"train\":\n",
    "    raw_data = data_path('train.csv')\n",
    "\n",
    "if FILE == \"test\":\n",
    "    raw_data = data_path('test.csv')\n",
    "\n",
    "raw_df   = pd.read_csv(raw_data)\n",
    "\n",
    "pro_df   = raw_df  # Creating a processed df for storing processed raw df \n",
    "\n",
    "raw_df.head()"
   ]
  },
  {
   "cell_type": "markdown",
   "metadata": {},
   "source": [
    "\n",
    "## Creating hashtags column"
   ]
  },
  {
   "cell_type": "code",
   "execution_count": 4,
   "metadata": {},
   "outputs": [
    {
     "output_type": "execute_result",
     "data": {
      "text/plain": "0                           sxswnui sxsw apple\n1                            googledoodle sxsw\n2                                         sxsw\n3                    sxsw fuckit illmakeitwork\n4                                         sxsw\n                         ...                  \n7269                                      sxsw\n7270    edchat musedchat sxsw sxswi newtwitter\n7271                                      sxsw\n7272                                      sxsw\n7273                         bankinnovate sxsw\nName: hashtags, Length: 7274, dtype: object"
     },
     "metadata": {},
     "execution_count": 4
    }
   ],
   "source": [
    "pro_df['hashtags'] = raw_df.tweet.apply(get_hashtags, 1)\n",
    "pro_df.hashtags"
   ]
  },
  {
   "cell_type": "markdown",
   "metadata": {},
   "source": [
    "## Preprocessing all tweets to remove links, @mentions, numbers and special characters"
   ]
  },
  {
   "cell_type": "code",
   "execution_count": 5,
   "metadata": {
    "tags": [
     "outputPrepend",
     "outputPrepend",
     "outputPrepend",
     "outputPrepend",
     "outputPrepend",
     "outputPrepend",
     "outputPrepend",
     "outputPrepend",
     "outputPrepend",
     "outputPrepend",
     "outputPrepend",
     "outputPrepend",
     "outputPrepend",
     "outputPrepend",
     "outputPrepend",
     "outputPrepend",
     "outputPrepend",
     "outputPrepend",
     "outputPrepend",
     "outputPrepend",
     "outputPrepend",
     "outputPrepend",
     "outputPrepend",
     "outputPrepend",
     "outputPrepend",
     "outputPrepend",
     "outputPrepend",
     "outputPrepend",
     "outputPrepend",
     "outputPrepend",
     "outputPrepend",
     "outputPrepend",
     "outputPrepend",
     "outputPrepend",
     "outputPrepend",
     "outputPrepend",
     "outputPrepend",
     "outputPrepend",
     "outputPrepend",
     "outputPrepend",
     "outputPrepend",
     "outputPrepend",
     "outputPrepend",
     "outputPrepend",
     "outputPrepend",
     "outputPrepend",
     "outputPrepend",
     "outputPrepend",
     "outputPrepend"
    ]
   },
   "outputs": [
    {
     "output_type": "stream",
     "name": "stdout",
     "text": "Time elapsed: 20.041551113128662\n"
    },
    {
     "output_type": "execute_result",
     "data": {
      "text/plain": "   tweet_id                                              tweet  sentiment  \\\n0      1701  sxswnui sxsw apple define language touch diffe...          1   \n1      1851  learn ab google doodle doodle light funny amp ...          1   \n2      2689  one face ex steal show yrs mention quot sxsw a...          2   \n3      4525  iphone sxsw app would b pretty awesome crash e...          0   \n4      3604  line outside apple store austin wait new ipad ...          1   \n\n                    hashtags  \n0         sxswnui sxsw apple  \n1          googledoodle sxsw  \n2                       sxsw  \n3  sxsw fuckit illmakeitwork  \n4                       sxsw  ",
      "text/html": "<div>\n<style scoped>\n    .dataframe tbody tr th:only-of-type {\n        vertical-align: middle;\n    }\n\n    .dataframe tbody tr th {\n        vertical-align: top;\n    }\n\n    .dataframe thead th {\n        text-align: right;\n    }\n</style>\n<table border=\"1\" class=\"dataframe\">\n  <thead>\n    <tr style=\"text-align: right;\">\n      <th></th>\n      <th>tweet_id</th>\n      <th>tweet</th>\n      <th>sentiment</th>\n      <th>hashtags</th>\n    </tr>\n  </thead>\n  <tbody>\n    <tr>\n      <th>0</th>\n      <td>1701</td>\n      <td>sxswnui sxsw apple define language touch diffe...</td>\n      <td>1</td>\n      <td>sxswnui sxsw apple</td>\n    </tr>\n    <tr>\n      <th>1</th>\n      <td>1851</td>\n      <td>learn ab google doodle doodle light funny amp ...</td>\n      <td>1</td>\n      <td>googledoodle sxsw</td>\n    </tr>\n    <tr>\n      <th>2</th>\n      <td>2689</td>\n      <td>one face ex steal show yrs mention quot sxsw a...</td>\n      <td>2</td>\n      <td>sxsw</td>\n    </tr>\n    <tr>\n      <th>3</th>\n      <td>4525</td>\n      <td>iphone sxsw app would b pretty awesome crash e...</td>\n      <td>0</td>\n      <td>sxsw fuckit illmakeitwork</td>\n    </tr>\n    <tr>\n      <th>4</th>\n      <td>3604</td>\n      <td>line outside apple store austin wait new ipad ...</td>\n      <td>1</td>\n      <td>sxsw</td>\n    </tr>\n  </tbody>\n</table>\n</div>"
     },
     "metadata": {},
     "execution_count": 5
    }
   ],
   "source": [
    "start = time.time()\n",
    "\n",
    "preprocess_lema = partial(preprocess, lema=True)\n",
    "pro_df.tweet    = raw_df.tweet.apply(preprocess_lema, 1)\n",
    "\n",
    "end = time.time()\n",
    "print(\"Time elapsed: {}\".format(end-start))\n",
    "\n",
    "pro_df.head()"
   ]
  },
  {
   "cell_type": "markdown",
   "metadata": {},
   "source": [
    "## Subjectivity and Polarity columns"
   ]
  },
  {
   "cell_type": "code",
   "execution_count": 6,
   "metadata": {},
   "outputs": [
    {
     "output_type": "execute_result",
     "data": {
      "text/plain": "      tweet_id                                              tweet  sentiment  \\\n0         1701  sxswnui sxsw apple define language touch diffe...          1   \n1         1851  learn ab google doodle doodle light funny amp ...          1   \n2         2689  one face ex steal show yrs mention quot sxsw a...          2   \n3         4525  iphone sxsw app would b pretty awesome crash e...          0   \n4         3604  line outside apple store austin wait new ipad ...          1   \n...        ...                                                ...        ...   \n7269      3343  google plze tammi middle sxsw craziness everyt...          1   \n7270      5334  mention set link edchat musedchat sxsw sxswi n...          1   \n7271      5378  mention aha find proof lactation room excuse q...          1   \n7272      2173  launch ipad app sxsw get detail first edition ...          1   \n7273      3162  next fin serv battle vs apple goog mobile oper...          1   \n\n                                    hashtags  subjectivity  polarity  \n0                         sxswnui sxsw apple      0.550000  0.000000  \n1                          googledoodle sxsw      0.893750  0.381250  \n2                                       sxsw      0.000000  0.000000  \n3                  sxsw fuckit illmakeitwork      1.000000  0.625000  \n4                                       sxsw      0.252273  0.068182  \n...                                      ...           ...       ...  \n7269                                    sxsw      0.150000  0.050000  \n7270  edchat musedchat sxsw sxswi newtwitter      0.000000  0.000000  \n7271                                    sxsw      0.058333 -0.025000  \n7272                                    sxsw      0.566667  0.325000  \n7273                       bankinnovate sxsw      0.000000  0.000000  \n\n[7274 rows x 6 columns]",
      "text/html": "<div>\n<style scoped>\n    .dataframe tbody tr th:only-of-type {\n        vertical-align: middle;\n    }\n\n    .dataframe tbody tr th {\n        vertical-align: top;\n    }\n\n    .dataframe thead th {\n        text-align: right;\n    }\n</style>\n<table border=\"1\" class=\"dataframe\">\n  <thead>\n    <tr style=\"text-align: right;\">\n      <th></th>\n      <th>tweet_id</th>\n      <th>tweet</th>\n      <th>sentiment</th>\n      <th>hashtags</th>\n      <th>subjectivity</th>\n      <th>polarity</th>\n    </tr>\n  </thead>\n  <tbody>\n    <tr>\n      <th>0</th>\n      <td>1701</td>\n      <td>sxswnui sxsw apple define language touch diffe...</td>\n      <td>1</td>\n      <td>sxswnui sxsw apple</td>\n      <td>0.550000</td>\n      <td>0.000000</td>\n    </tr>\n    <tr>\n      <th>1</th>\n      <td>1851</td>\n      <td>learn ab google doodle doodle light funny amp ...</td>\n      <td>1</td>\n      <td>googledoodle sxsw</td>\n      <td>0.893750</td>\n      <td>0.381250</td>\n    </tr>\n    <tr>\n      <th>2</th>\n      <td>2689</td>\n      <td>one face ex steal show yrs mention quot sxsw a...</td>\n      <td>2</td>\n      <td>sxsw</td>\n      <td>0.000000</td>\n      <td>0.000000</td>\n    </tr>\n    <tr>\n      <th>3</th>\n      <td>4525</td>\n      <td>iphone sxsw app would b pretty awesome crash e...</td>\n      <td>0</td>\n      <td>sxsw fuckit illmakeitwork</td>\n      <td>1.000000</td>\n      <td>0.625000</td>\n    </tr>\n    <tr>\n      <th>4</th>\n      <td>3604</td>\n      <td>line outside apple store austin wait new ipad ...</td>\n      <td>1</td>\n      <td>sxsw</td>\n      <td>0.252273</td>\n      <td>0.068182</td>\n    </tr>\n    <tr>\n      <th>...</th>\n      <td>...</td>\n      <td>...</td>\n      <td>...</td>\n      <td>...</td>\n      <td>...</td>\n      <td>...</td>\n    </tr>\n    <tr>\n      <th>7269</th>\n      <td>3343</td>\n      <td>google plze tammi middle sxsw craziness everyt...</td>\n      <td>1</td>\n      <td>sxsw</td>\n      <td>0.150000</td>\n      <td>0.050000</td>\n    </tr>\n    <tr>\n      <th>7270</th>\n      <td>5334</td>\n      <td>mention set link edchat musedchat sxsw sxswi n...</td>\n      <td>1</td>\n      <td>edchat musedchat sxsw sxswi newtwitter</td>\n      <td>0.000000</td>\n      <td>0.000000</td>\n    </tr>\n    <tr>\n      <th>7271</th>\n      <td>5378</td>\n      <td>mention aha find proof lactation room excuse q...</td>\n      <td>1</td>\n      <td>sxsw</td>\n      <td>0.058333</td>\n      <td>-0.025000</td>\n    </tr>\n    <tr>\n      <th>7272</th>\n      <td>2173</td>\n      <td>launch ipad app sxsw get detail first edition ...</td>\n      <td>1</td>\n      <td>sxsw</td>\n      <td>0.566667</td>\n      <td>0.325000</td>\n    </tr>\n    <tr>\n      <th>7273</th>\n      <td>3162</td>\n      <td>next fin serv battle vs apple goog mobile oper...</td>\n      <td>1</td>\n      <td>bankinnovate sxsw</td>\n      <td>0.000000</td>\n      <td>0.000000</td>\n    </tr>\n  </tbody>\n</table>\n<p>7274 rows × 6 columns</p>\n</div>"
     },
     "metadata": {},
     "execution_count": 6
    }
   ],
   "source": [
    "pro_df['subjectivity'] = pro_df.tweet.apply(get_subjectivity, 1)\n",
    "pro_df['polarity'] = pro_df.tweet.apply(get_polarity, 1)\n",
    "\n",
    "pro_df"
   ]
  },
  {
   "cell_type": "markdown",
   "metadata": {},
   "source": [
    "## Vader Analysis"
   ]
  },
  {
   "cell_type": "code",
   "execution_count": 7,
   "metadata": {},
   "outputs": [],
   "source": [
    "from vaderSentiment.vaderSentiment import SentimentIntensityAnalyzer\n",
    "\n",
    "analyser = SentimentIntensityAnalyzer()\n",
    "\n",
    "def get_neg_polarity(text: str) -> int:\n",
    "    return analyser.polarity_scores(text)['neg']\n",
    "\n",
    "def get_neu_polarity(text: str) -> int:\n",
    "    return analyser.polarity_scores(text)['neu']\n",
    "\n",
    "def get_pos_polarity(text: str) -> int:\n",
    "    return analyser.polarity_scores(text)['pos']\n",
    "\n",
    "def get_compound_polarity(text: str) -> int:\n",
    "    return analyser.polarity_scores(text)['compound']"
   ]
  },
  {
   "cell_type": "code",
   "execution_count": 8,
   "metadata": {
    "tags": [
     "outputPrepend",
     "outputPrepend",
     "outputPrepend"
    ]
   },
   "outputs": [
    {
     "output_type": "execute_result",
     "data": {
      "text/plain": "   tweet_id                                              tweet  sentiment  \\\n0      1701  sxswnui sxsw apple define language touch diffe...          1   \n1      1851  learn ab google doodle doodle light funny amp ...          1   \n2      2689  one face ex steal show yrs mention quot sxsw a...          2   \n3      4525  iphone sxsw app would b pretty awesome crash e...          0   \n4      3604  line outside apple store austin wait new ipad ...          1   \n\n                    hashtags  subjectivity  polarity  negative  positive  \\\n0         sxswnui sxsw apple      0.550000  0.000000     0.000     0.000   \n1          googledoodle sxsw      0.893750  0.381250     0.000     0.409   \n2                       sxsw      0.000000  0.000000     0.186     0.000   \n3  sxsw fuckit illmakeitwork      1.000000  0.625000     0.124     0.415   \n4                       sxsw      0.252273  0.068182     0.000     0.000   \n\n   neutral  compound  \n0    1.000    0.0000  \n1    0.591    0.7650  \n2    0.814   -0.4939  \n3    0.461    0.7430  \n4    1.000    0.0000  ",
      "text/html": "<div>\n<style scoped>\n    .dataframe tbody tr th:only-of-type {\n        vertical-align: middle;\n    }\n\n    .dataframe tbody tr th {\n        vertical-align: top;\n    }\n\n    .dataframe thead th {\n        text-align: right;\n    }\n</style>\n<table border=\"1\" class=\"dataframe\">\n  <thead>\n    <tr style=\"text-align: right;\">\n      <th></th>\n      <th>tweet_id</th>\n      <th>tweet</th>\n      <th>sentiment</th>\n      <th>hashtags</th>\n      <th>subjectivity</th>\n      <th>polarity</th>\n      <th>negative</th>\n      <th>positive</th>\n      <th>neutral</th>\n      <th>compound</th>\n    </tr>\n  </thead>\n  <tbody>\n    <tr>\n      <th>0</th>\n      <td>1701</td>\n      <td>sxswnui sxsw apple define language touch diffe...</td>\n      <td>1</td>\n      <td>sxswnui sxsw apple</td>\n      <td>0.550000</td>\n      <td>0.000000</td>\n      <td>0.000</td>\n      <td>0.000</td>\n      <td>1.000</td>\n      <td>0.0000</td>\n    </tr>\n    <tr>\n      <th>1</th>\n      <td>1851</td>\n      <td>learn ab google doodle doodle light funny amp ...</td>\n      <td>1</td>\n      <td>googledoodle sxsw</td>\n      <td>0.893750</td>\n      <td>0.381250</td>\n      <td>0.000</td>\n      <td>0.409</td>\n      <td>0.591</td>\n      <td>0.7650</td>\n    </tr>\n    <tr>\n      <th>2</th>\n      <td>2689</td>\n      <td>one face ex steal show yrs mention quot sxsw a...</td>\n      <td>2</td>\n      <td>sxsw</td>\n      <td>0.000000</td>\n      <td>0.000000</td>\n      <td>0.186</td>\n      <td>0.000</td>\n      <td>0.814</td>\n      <td>-0.4939</td>\n    </tr>\n    <tr>\n      <th>3</th>\n      <td>4525</td>\n      <td>iphone sxsw app would b pretty awesome crash e...</td>\n      <td>0</td>\n      <td>sxsw fuckit illmakeitwork</td>\n      <td>1.000000</td>\n      <td>0.625000</td>\n      <td>0.124</td>\n      <td>0.415</td>\n      <td>0.461</td>\n      <td>0.7430</td>\n    </tr>\n    <tr>\n      <th>4</th>\n      <td>3604</td>\n      <td>line outside apple store austin wait new ipad ...</td>\n      <td>1</td>\n      <td>sxsw</td>\n      <td>0.252273</td>\n      <td>0.068182</td>\n      <td>0.000</td>\n      <td>0.000</td>\n      <td>1.000</td>\n      <td>0.0000</td>\n    </tr>\n  </tbody>\n</table>\n</div>"
     },
     "metadata": {},
     "execution_count": 8
    }
   ],
   "source": [
    "pro_df['negative'] = pro_df.tweet.apply(get_neg_polarity, 1)\n",
    "pro_df['positive'] = pro_df.tweet.apply(get_pos_polarity, 1)\n",
    "pro_df['neutral']  = pro_df.tweet.apply(get_neu_polarity, 1)\n",
    "pro_df['compound'] = pro_df.tweet.apply(get_compound_polarity, 1)\n",
    "\n",
    "pro_df.head()\n"
   ]
  },
  {
   "cell_type": "markdown",
   "metadata": {},
   "source": [
    "## POS Tagging"
   ]
  },
  {
   "cell_type": "code",
   "execution_count": 9,
   "metadata": {},
   "outputs": [],
   "source": [
    "import nltk\n",
    "\n",
    "# text = \"Brilliant i hope they have plenty of iPad RT Apple to Open Pop Up Shop at SXSW REPORT sxsw\"\n",
    "def pos_tag_tweet(text: str) -> str:\n",
    "    tokens   = nltk.word_tokenize(text.lower())\n",
    "    pos_tags = nltk.pos_tag(tokens)\n",
    "\n",
    "    return \" \".join([tag[1] for tag in pos_tags])\n",
    "\n",
    "\n"
   ]
  },
  {
   "cell_type": "code",
   "execution_count": 10,
   "metadata": {
    "tags": [
     "outputPrepend",
     "outputPrepend",
     "outputPrepend",
     "outputPrepend",
     "outputPrepend",
     "outputPrepend",
     "outputPrepend",
     "outputPrepend",
     "outputPrepend",
     "outputPrepend",
     "outputPrepend",
     "outputPrepend",
     "outputPrepend",
     "outputPrepend",
     "outputPrepend",
     "outputPrepend",
     "outputPrepend",
     "outputPrepend",
     "outputPrepend",
     "outputPrepend",
     "outputPrepend",
     "outputPrepend",
     "outputPrepend",
     "outputPrepend",
     "outputPrepend",
     "outputPrepend",
     "outputPrepend",
     "outputPrepend",
     "outputPrepend",
     "outputPrepend",
     "outputPrepend",
     "outputPrepend",
     "outputPrepend",
     "outputPrepend",
     "outputPrepend",
     "outputPrepend",
     "outputPrepend",
     "outputPrepend",
     "outputPrepend",
     "outputPrepend",
     "outputPrepend",
     "outputPrepend",
     "outputPrepend",
     "outputPrepend",
     "outputPrepend",
     "outputPrepend",
     "outputPrepend",
     "outputPrepend",
     "outputPrepend",
     "outputPrepend",
     "outputPrepend",
     "outputPrepend",
     "outputPrepend",
     "outputPrepend",
     "outputPrepend",
     "outputPrepend",
     "outputPrepend",
     "outputPrepend",
     "outputPrepend",
     "outputPrepend"
    ]
   },
   "outputs": [
    {
     "output_type": "execute_result",
     "data": {
      "text/plain": "      tweet_id                                              tweet  sentiment  \\\n0         1701  sxswnui sxsw apple define language touch diffe...          1   \n1         1851  learn ab google doodle doodle light funny amp ...          1   \n2         2689  one face ex steal show yrs mention quot sxsw a...          2   \n3         4525  iphone sxsw app would b pretty awesome crash e...          0   \n4         3604  line outside apple store austin wait new ipad ...          1   \n...        ...                                                ...        ...   \n7269      3343  google plze tammi middle sxsw craziness everyt...          1   \n7270      5334  mention set link edchat musedchat sxsw sxswi n...          1   \n7271      5378  mention aha find proof lactation room excuse q...          1   \n7272      2173  launch ipad app sxsw get detail first edition ...          1   \n7273      3162  next fin serv battle vs apple goog mobile oper...          1   \n\n                                    hashtags  subjectivity  polarity  \\\n0                         sxswnui sxsw apple      0.550000  0.000000   \n1                          googledoodle sxsw      0.893750  0.381250   \n2                                       sxsw      0.000000  0.000000   \n3                  sxsw fuckit illmakeitwork      1.000000  0.625000   \n4                                       sxsw      0.252273  0.068182   \n...                                      ...           ...       ...   \n7269                                    sxsw      0.150000  0.050000   \n7270  edchat musedchat sxsw sxswi newtwitter      0.000000  0.000000   \n7271                                    sxsw      0.058333 -0.025000   \n7272                                    sxsw      0.566667  0.325000   \n7273                       bankinnovate sxsw      0.000000  0.000000   \n\n      negative  positive  neutral  compound  \\\n0        0.000     0.000    1.000    0.0000   \n1        0.000     0.409    0.591    0.7650   \n2        0.186     0.000    0.814   -0.4939   \n3        0.124     0.415    0.461    0.7430   \n4        0.000     0.000    1.000    0.0000   \n...        ...       ...      ...       ...   \n7269     0.245     0.000    0.755   -0.3818   \n7270     0.000     0.000    1.000    0.0000   \n7271     0.000     0.075    0.925    0.0772   \n7272     0.000     0.268    0.732    0.5106   \n7273     0.123     0.166    0.711    0.2263   \n\n                                                    pos  \n0                      NN NN NN NN NN JJ JJ NNS VBP JJR  \n1            NN NN NN JJ JJ NN JJ JJ JJ NNS JJ NN NN NN  \n2         CD NN NN VB NN JJ NN NN NN NN NN NN VBZ JJ NN  \n3           NN NN NN MD VB RB JJ NN DT NNS VBP JJ NN NN  \n4                        NN IN NN NN NN VBP JJ JJ NN NN  \n...                                                 ...  \n7269                         NN NN NN JJ JJ NN NN NN JJ  \n7270                         NN VBN VBP IN WP VBP JJ NN  \n7271  NN NN VBP JJ NN NN IN JJ NN NN NN NN NN JJ NN ...  \n7272                      NN NN NN NN VB NN JJ NN JJ NN  \n7273  JJ NN JJ NN NN NN NN NN NNS NN NN NNS NN NN NN...  \n\n[7274 rows x 11 columns]",
      "text/html": "<div>\n<style scoped>\n    .dataframe tbody tr th:only-of-type {\n        vertical-align: middle;\n    }\n\n    .dataframe tbody tr th {\n        vertical-align: top;\n    }\n\n    .dataframe thead th {\n        text-align: right;\n    }\n</style>\n<table border=\"1\" class=\"dataframe\">\n  <thead>\n    <tr style=\"text-align: right;\">\n      <th></th>\n      <th>tweet_id</th>\n      <th>tweet</th>\n      <th>sentiment</th>\n      <th>hashtags</th>\n      <th>subjectivity</th>\n      <th>polarity</th>\n      <th>negative</th>\n      <th>positive</th>\n      <th>neutral</th>\n      <th>compound</th>\n      <th>pos</th>\n    </tr>\n  </thead>\n  <tbody>\n    <tr>\n      <th>0</th>\n      <td>1701</td>\n      <td>sxswnui sxsw apple define language touch diffe...</td>\n      <td>1</td>\n      <td>sxswnui sxsw apple</td>\n      <td>0.550000</td>\n      <td>0.000000</td>\n      <td>0.000</td>\n      <td>0.000</td>\n      <td>1.000</td>\n      <td>0.0000</td>\n      <td>NN NN NN NN NN JJ JJ NNS VBP JJR</td>\n    </tr>\n    <tr>\n      <th>1</th>\n      <td>1851</td>\n      <td>learn ab google doodle doodle light funny amp ...</td>\n      <td>1</td>\n      <td>googledoodle sxsw</td>\n      <td>0.893750</td>\n      <td>0.381250</td>\n      <td>0.000</td>\n      <td>0.409</td>\n      <td>0.591</td>\n      <td>0.7650</td>\n      <td>NN NN NN JJ JJ NN JJ JJ JJ NNS JJ NN NN NN</td>\n    </tr>\n    <tr>\n      <th>2</th>\n      <td>2689</td>\n      <td>one face ex steal show yrs mention quot sxsw a...</td>\n      <td>2</td>\n      <td>sxsw</td>\n      <td>0.000000</td>\n      <td>0.000000</td>\n      <td>0.186</td>\n      <td>0.000</td>\n      <td>0.814</td>\n      <td>-0.4939</td>\n      <td>CD NN NN VB NN JJ NN NN NN NN NN NN VBZ JJ NN</td>\n    </tr>\n    <tr>\n      <th>3</th>\n      <td>4525</td>\n      <td>iphone sxsw app would b pretty awesome crash e...</td>\n      <td>0</td>\n      <td>sxsw fuckit illmakeitwork</td>\n      <td>1.000000</td>\n      <td>0.625000</td>\n      <td>0.124</td>\n      <td>0.415</td>\n      <td>0.461</td>\n      <td>0.7430</td>\n      <td>NN NN NN MD VB RB JJ NN DT NNS VBP JJ NN NN</td>\n    </tr>\n    <tr>\n      <th>4</th>\n      <td>3604</td>\n      <td>line outside apple store austin wait new ipad ...</td>\n      <td>1</td>\n      <td>sxsw</td>\n      <td>0.252273</td>\n      <td>0.068182</td>\n      <td>0.000</td>\n      <td>0.000</td>\n      <td>1.000</td>\n      <td>0.0000</td>\n      <td>NN IN NN NN NN VBP JJ JJ NN NN</td>\n    </tr>\n    <tr>\n      <th>...</th>\n      <td>...</td>\n      <td>...</td>\n      <td>...</td>\n      <td>...</td>\n      <td>...</td>\n      <td>...</td>\n      <td>...</td>\n      <td>...</td>\n      <td>...</td>\n      <td>...</td>\n      <td>...</td>\n    </tr>\n    <tr>\n      <th>7269</th>\n      <td>3343</td>\n      <td>google plze tammi middle sxsw craziness everyt...</td>\n      <td>1</td>\n      <td>sxsw</td>\n      <td>0.150000</td>\n      <td>0.050000</td>\n      <td>0.245</td>\n      <td>0.000</td>\n      <td>0.755</td>\n      <td>-0.3818</td>\n      <td>NN NN NN JJ JJ NN NN NN JJ</td>\n    </tr>\n    <tr>\n      <th>7270</th>\n      <td>5334</td>\n      <td>mention set link edchat musedchat sxsw sxswi n...</td>\n      <td>1</td>\n      <td>edchat musedchat sxsw sxswi newtwitter</td>\n      <td>0.000000</td>\n      <td>0.000000</td>\n      <td>0.000</td>\n      <td>0.000</td>\n      <td>1.000</td>\n      <td>0.0000</td>\n      <td>NN VBN VBP IN WP VBP JJ NN</td>\n    </tr>\n    <tr>\n      <th>7271</th>\n      <td>5378</td>\n      <td>mention aha find proof lactation room excuse q...</td>\n      <td>1</td>\n      <td>sxsw</td>\n      <td>0.058333</td>\n      <td>-0.025000</td>\n      <td>0.000</td>\n      <td>0.075</td>\n      <td>0.925</td>\n      <td>0.0772</td>\n      <td>NN NN VBP JJ NN NN IN JJ NN NN NN NN NN JJ NN ...</td>\n    </tr>\n    <tr>\n      <th>7272</th>\n      <td>2173</td>\n      <td>launch ipad app sxsw get detail first edition ...</td>\n      <td>1</td>\n      <td>sxsw</td>\n      <td>0.566667</td>\n      <td>0.325000</td>\n      <td>0.000</td>\n      <td>0.268</td>\n      <td>0.732</td>\n      <td>0.5106</td>\n      <td>NN NN NN NN VB NN JJ NN JJ NN</td>\n    </tr>\n    <tr>\n      <th>7273</th>\n      <td>3162</td>\n      <td>next fin serv battle vs apple goog mobile oper...</td>\n      <td>1</td>\n      <td>bankinnovate sxsw</td>\n      <td>0.000000</td>\n      <td>0.000000</td>\n      <td>0.123</td>\n      <td>0.166</td>\n      <td>0.711</td>\n      <td>0.2263</td>\n      <td>JJ NN JJ NN NN NN NN NN NNS NN NN NNS NN NN NN...</td>\n    </tr>\n  </tbody>\n</table>\n<p>7274 rows × 11 columns</p>\n</div>"
     },
     "metadata": {},
     "execution_count": 10
    }
   ],
   "source": [
    "pro_df['pos'] = pro_df.tweet.apply(pos_tag_tweet, 1)\n",
    "\n",
    "pro_df"
   ]
  },
  {
   "cell_type": "code",
   "execution_count": 11,
   "metadata": {},
   "outputs": [
    {
     "output_type": "execute_result",
     "data": {
      "text/plain": "tweet_id        0\ntweet           0\nsentiment       0\nhashtags        0\nsubjectivity    0\npolarity        0\nnegative        0\npositive        0\nneutral         0\ncompound        0\npos             0\ndtype: int64"
     },
     "metadata": {},
     "execution_count": 11
    }
   ],
   "source": [
    "pro_df.isna().sum()"
   ]
  },
  {
   "cell_type": "markdown",
   "metadata": {},
   "source": [
    "## Processed DataFrame to CSV"
   ]
  },
  {
   "cell_type": "code",
   "execution_count": 23,
   "metadata": {},
   "outputs": [],
   "source": []
  },
  {
   "cell_type": "code",
   "execution_count": 13,
   "metadata": {},
   "outputs": [
    {
     "output_type": "stream",
     "name": "stdout",
     "text": "Generating CSV at c:\\Users\\karan\\Desktop\\GLabs_DSMP\\Twitter-Sentiment-Analysis\\notebooks\\data\\train-preprocessed.csv\nDone\n"
    }
   ],
   "source": [
    "\n",
    "def create_file():\n",
    "    if FILE == \"train\":\n",
    "        save_as_csv(pro_df, \"train-preprocessed.csv\")\n",
    "\n",
    "    if FILE == \"test\":\n",
    "        save_as_csv(pro_df, \"test-preprocessed.csv\")\n",
    "\n",
    "create_file()\n"
   ]
  },
  {
   "cell_type": "code",
   "execution_count": null,
   "metadata": {},
   "outputs": [],
   "source": []
  }
 ],
 "metadata": {
  "file_extension": ".py",
  "kernelspec": {
   "display_name": "Python 3.7.4 32-bit",
   "language": "python",
   "name": "python37432bitc1904522e8ce46829924bddcb110fc44"
  },
  "language_info": {
   "codemirror_mode": {
    "name": "ipython",
    "version": 3
   },
   "file_extension": ".py",
   "mimetype": "text/x-python",
   "name": "python",
   "nbconvert_exporter": "python",
   "pygments_lexer": "ipython3",
   "version": "3.7.4-final"
  },
  "mimetype": "text/x-python",
  "name": "python",
  "npconvert_exporter": "python",
  "pygments_lexer": "ipython3",
  "version": 3
 },
 "nbformat": 4,
 "nbformat_minor": 2
}